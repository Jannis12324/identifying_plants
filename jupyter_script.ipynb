{
 "cells": [
  {
   "cell_type": "code",
   "execution_count": null,
   "metadata": {},
   "outputs": [],
   "source": [
    "# Imports here\n",
    "import torch\n",
    "from torch import nn, optim\n",
    "import torch.nn.functional as F\n",
    "from torchvision import datasets, transforms, models\n",
    "from collections import OrderedDict\n",
    "from workspace_utils import active_session"
   ]
  },
  {
   "cell_type": "markdown",
   "metadata": {},
   "source": [
    "# Loading and transforming the data"
   ]
  },
  {
   "cell_type": "code",
   "execution_count": null,
   "metadata": {},
   "outputs": [],
   "source": [
    "# transforms for the training, validation, and testing sets\n",
    "train_transforms = transforms.Compose([transforms.RandomRotation(30),\n",
    "                                      transforms.RandomResizedCrop(224),\n",
    "                                      transforms.RandomHorizontalFlip(),\n",
    "                                      transforms.ToTensor(),\n",
    "                                      transforms.Normalize([0.485, 0.456, 0.406],\n",
    "                                                          [0.229, 0.224, 0.225])])\n",
    "\n",
    "test_transforms = transforms.Compose([transforms.Resize(255),\n",
    "                                      transforms.CenterCrop(224),\n",
    "                                      transforms.ToTensor(),\n",
    "                                      transforms.Normalize([0.485, 0.456, 0.406],\n",
    "                                                          [0.229, 0.224, 0.225])])\n",
    "\n",
    "valid_transforms = test_transforms\n",
    "# Load the datasets with ImageFolder\n",
    "train_data = datasets.ImageFolder(train_dir, transform = train_transforms)\n",
    "valid_data = datasets.ImageFolder(valid_dir, transform = valid_transforms)\n",
    "test_data = datasets.ImageFolder(test_dir, transform = test_transforms)\n",
    "\n",
    "# defining the dataloaders\n",
    "trainloader = torch.utils.data.DataLoader(train_data, batch_size = 32, shuffle = True)\n",
    "validloader = torch.utils.data.DataLoader(valid_data, batch_size = 32)\n",
    "testloader = torch.utils.data.DataLoader(test_data, batch_size = 32)\n"
   ]
  },
  {
   "cell_type": "markdown",
   "metadata": {},
   "source": [
    "# Building and training the model"
   ]
  },
  {
   "cell_type": "code",
   "execution_count": null,
   "metadata": {},
   "outputs": [],
   "source": [
    "# load pretrained model\n",
    "model = models.densenet121(pretrained = True)\n",
    "# freeze all parameters\n",
    "for param in model.parameters():\n",
    "    param.requires_grad = False"
   ]
  },
  {
   "cell_type": "code",
   "execution_count": null,
   "metadata": {},
   "outputs": [],
   "source": [
    "# write a new classifier and detatch the classifier of the pretrained network\n",
    "device = torch.device(\"cuda\" if torch.cuda.is_available() else \"cpu\")\n",
    "classifier = nn.Sequential(nn.Dropout(p=0.2),\n",
    "                           nn.Linear(1024, 400),\n",
    "                           nn.ReLU(),\n",
    "                           nn.Dropout(p=0.2),\n",
    "                           nn.Linear(400, 200),\n",
    "                           nn.ReLU(),\n",
    "                           nn.Dropout(p=0.2),\n",
    "                           nn.Linear(200, 102),\n",
    "                           nn.LogSoftmax(dim = 1))\n",
    "model.classifier = classifier\n",
    "criterion = nn.NLLLoss()\n",
    "optimizer = optim.Adam(model.classifier.parameters(), lr = 0.003)\n",
    "model.to(device)"
   ]
  },
  {
   "cell_type": "code",
   "execution_count": null,
   "metadata": {},
   "outputs": [],
   "source": [
    "# Train the neural network\n",
    "epochs = 1\n",
    "steps = 0\n",
    "print_every = 5\n",
    "running_loss = 0\n",
    "\n",
    "for epoch in range(epochs):\n",
    "    for images, labels in trainloader:\n",
    "        steps +=1\n",
    "        images, labels = images.to(device), labels.to(device)\n",
    "        \n",
    "        optimizer.zero_grad()\n",
    "        logps = model(images)\n",
    "        loss = criterion(logps, labels)\n",
    "        \n",
    "        loss.backward()\n",
    "        optimizer.step()\n",
    "\n",
    "        running_loss += loss.item()\n",
    "\n",
    "        if steps % print_every == 0:\n",
    "            test_loss = 0\n",
    "            accuracy = 0\n",
    "            model.eval()\n",
    "\n",
    "            with torch.no_grad():\n",
    "                for images, labels in validloader:\n",
    "                    images, labels = images.to(device), labels.to(device)\n",
    "                    logps = model(images)\n",
    "\n",
    "                    valid_loss += criterion(logps, labels).item()\n",
    "\n",
    "                    #accuracy\n",
    "                    ps = torch.exp(logps)\n",
    "                    top_p, top_class = ps.topk(1, dim = 1)\n",
    "                    equals = top_class == labels.view(*top_class.shape)\n",
    "                    accuarcy += torch.mean(equals.type(torch.FloatTensor))\n",
    "\n",
    "            print(\"Validation loss: {}\".format(valid_loss/len(validloader)))\n",
    "            print(\"Validation Accuracy: {}\".format(accuracy/len(validloader)))\n",
    "            model.train()"
   ]
  },
  {
   "cell_type": "markdown",
   "metadata": {},
   "source": [
    "# Testing"
   ]
  },
  {
   "cell_type": "code",
   "execution_count": null,
   "metadata": {},
   "outputs": [],
   "source": [
    "#testing\n",
    "model.eval()\n",
    "                \n",
    "with torch.no_grad():\n",
    "    for images, labels in testloader:\n",
    "        images, labels = images.to(device), labels.to(device)\n",
    "        logps = model(images)\n",
    "\n",
    "        test_loss += criterion(logps, labels).item()\n",
    "\n",
    "        #accuracy\n",
    "        ps = torch.exp(logps)\n",
    "        top_p, top_class = ps.topk(1, dim = 1)\n",
    "        equals = top_class == labels.view(*top_class.shape)\n",
    "        accuarcy += torch.mean(equals.type(torch.FloatTensor))\n",
    "\n",
    "print(\"Validation loss: {}\".format(test_loss/len(validloader))\n",
    "     \"Validation Accuracy: {}\".format(accuracy/len(validloader)))\n",
    "model.train()"
   ]
  },
  {
   "cell_type": "markdown",
   "metadata": {},
   "source": [
    "# Saving and loading the model"
   ]
  },
  {
   "cell_type": "code",
   "execution_count": null,
   "metadata": {},
   "outputs": [],
   "source": [
    "class_to_name = cat_to_name\n",
    "\n",
    "#train_data.class_to_idx\n",
    "model.class_to_idx = train_data.class_to_idx\n",
    "model.class_to_name = class_to_name\n",
    "\n",
    "\n",
    "# TODO: Save the checkpoint \n",
    "checkpoint = {\"transfer_model\": \"vgg13\",\n",
    "             \"classifier\": model.classifier,\n",
    "             \"classifier_state_dict\": model.classifier.state_dict(),\n",
    "             \"optimizer\": optimizer,\n",
    "             \"optimizer_state_dict\": optimizer.state_dict(),\n",
    "             \"class_to_idx\": model.class_to_idx,\n",
    "             \"class_to_name\": model.class_to_name}\n",
    "torch.save(checkpoint, \"checkpoint_vgg13.pth\")"
   ]
  },
  {
   "cell_type": "code",
   "execution_count": null,
   "metadata": {},
   "outputs": [],
   "source": [
    "# loading function\n",
    "def load_checkpoint(filepath):\n",
    "    '''\n",
    "    input: filepath to a checkpoint file -.pth\n",
    "    output: \n",
    "        model - pretrained network with frozen parameters and a trained classifier with loaded state dict\n",
    "        criterion - the criterion to be used\n",
    "        optimizer - the optimizer with loaded state dict\n",
    "    \n",
    "    returns a trained model ready for predictions with a criterion and optimizer in case more training is needed\n",
    "    '''\n",
    "    device = (\"cuda\" if torch.cuda.is_available() else \"cpu\")\n",
    "    \n",
    "    checkpoint = torch.load(filepath)\n",
    "    \n",
    "    model = models.vgg13(pretrained = True)\n",
    "    model.to(device)\n",
    "    for param in model.parameters():\n",
    "        param.requires_grad = False\n",
    "        \n",
    "    model.classifier = checkpoint[\"classifier\"]\n",
    "    model.classifier.load_state_dict(checkpoint[\"classifier_state_dict\"])\n",
    "    \n",
    "    optimizer = checkpoint[\"optimizer\"]\n",
    "    optimizer.load_state_dict(checkpoint[\"optimizer_state_dict\"])\n",
    "    model.class_to_name = checkpoint[\"class_to_name\"]\n",
    "    model.class_to_idx = checkpoint[\"class_to_idx\"]\n",
    "    criterion = nn.NLLLoss()\n",
    "   \n",
    "    \n",
    "    return model, criterion, optimizer"
   ]
  },
  {
   "cell_type": "code",
   "execution_count": null,
   "metadata": {},
   "outputs": [],
   "source": [
    "model, criterion, optimizer = load_checkpoint(\"checkpoint_vgg13.pth\")"
   ]
  },
  {
   "cell_type": "markdown",
   "metadata": {},
   "source": [
    "# Image handling for prediction"
   ]
  },
  {
   "cell_type": "code",
   "execution_count": null,
   "metadata": {},
   "outputs": [],
   "source": [
    "def process_image(image):\n",
    "    ''' Scales, crops, and normalizes a PIL image for a PyTorch model,\n",
    "        returns an Numpy array\n",
    "    '''\n",
    "    transform = transforms.Compose([transforms.Resize(255),\n",
    "                                      transforms.CenterCrop(224),\n",
    "                                      transforms.ToTensor(),\n",
    "                                      transforms.Normalize([0.485, 0.456, 0.406],\n",
    "                                                          [0.229, 0.224, 0.225])])\n",
    "   \n",
    "    return transform(image)"
   ]
  },
  {
   "cell_type": "code",
   "execution_count": null,
   "metadata": {},
   "outputs": [],
   "source": [
    "import matplotlib.pyplot as plt\n",
    "def imshow(image, ax=None, title=None):\n",
    "    \"\"\"Imshow for Tensor.\"\"\"\n",
    "    if ax is None:\n",
    "        fig, ax = plt.subplots()\n",
    "    \n",
    "    # PyTorch tensors assume the color channel is the first dimension\n",
    "    # but matplotlib assumes is the third dimension\n",
    "    image = image.numpy().transpose((1, 2, 0))\n",
    "    \n",
    "    # Undo preprocessing\n",
    "    mean = np.array([0.485, 0.456, 0.406])\n",
    "    std = np.array([0.229, 0.224, 0.225])\n",
    "    image = std * image + mean\n",
    "    \n",
    "    # Image needs to be clipped between 0 and 1 or it looks like noise when displayed\n",
    "    image = np.clip(image, 0, 1)\n",
    "    \n",
    "    ax.imshow(image)\n",
    "    \n",
    "    return ax"
   ]
  },
  {
   "cell_type": "markdown",
   "metadata": {},
   "source": [
    "# Predicting"
   ]
  },
  {
   "cell_type": "code",
   "execution_count": null,
   "metadata": {},
   "outputs": [],
   "source": [
    "def predict(image_path, model = model, topk=5):\n",
    "    ''' Predict the class (or classes) of an image using a trained deep learning model.\n",
    "    '''\n",
    "    model_check = \"checkpoint_vgg13.pth\"\n",
    "   \n",
    "    # loads and preprocesses the image\n",
    "    image = Image.open(image_path, \"r\")\n",
    "    image = process_image(image)\n",
    "    \n",
    "    # get the input tensor in the correct dimension for the model\n",
    "    image = image.view(1,3,224,224)\n",
    "    \n",
    "    # don't load the model again if it is already loaded to save time\n",
    "    try:\n",
    "        \n",
    "        model.to(\"cpu\")\n",
    "        model.eval()\n",
    "        ps = torch.exp(model(image))\n",
    "    except:\n",
    "        device = torch.device(\"cuda\" if torch.cuda.is_available() else \"cpu\")\n",
    "        model.to(device)\n",
    "        model, criterion, optimizer = load_checkpoint(model)\n",
    "        model.eval()\n",
    "        ps = torch.exp(model(image))\n",
    "        \n",
    "        \n",
    "    #get the top 5 predictions\n",
    "    top_p, top_class = ps.topk(5, dim = 1)\n",
    "    # convert tensor to a list\n",
    "    top_p = top_p.detach().numpy()\n",
    "    top_p=list(top_p.flatten())\n",
    "    classes = list(top_class.detach().numpy().flatten())\n",
    "    \n",
    "    # map the predictions to the classes\n",
    "    idx_to_class = {v: k for k, v in model.class_to_idx.items()}\n",
    "    classes = list(top_class.detach().numpy().flatten())\n",
    "    class_preds = []\n",
    "    for item in classes:\n",
    "        item = idx_to_class[item]\n",
    "        class_preds.append(model.class_to_name[item])\n",
    "        \n",
    "    return top_p, class_preds"
   ]
  },
  {
   "cell_type": "markdown",
   "metadata": {},
   "source": [
    "# Sanity check"
   ]
  },
  {
   "cell_type": "code",
   "execution_count": null,
   "metadata": {},
   "outputs": [],
   "source": [
    "img_path = \"flowers/test/28/image_05214.jpg\"\n",
    "image = Image.open(img_path)\n",
    "label = [int(s) for s in img_path.split(\"/\") if s.isdigit()]\n",
    "\n",
    "label = model.class_to_name[str(label[0])]\n",
    "idx_to_class = {v: k for k, v in model.class_to_idx.items()}\n",
    "\n",
    "\n",
    "imshow(process_image(image))\n",
    "preds, classes = predict(img_path, model)\n",
    "\n",
    "fig, ax = plt.subplots()\n",
    "\n",
    "y_pos = np.arange(len(classes))\n",
    "performance = 3 + 10 * np.random.rand(len(classes))\n",
    "\n",
    "ax.barh(y_pos, preds, align='center')\n",
    "ax.set_yticks(y_pos)\n",
    "ax.set_yticklabels(classes)\n",
    "ax.invert_yaxis() \n",
    "ax.set_xlabel('Performance')\n",
    "ax.set_title('Correct label: {} Predictions:'.format(label))\n",
    "\n",
    "plt.show()"
   ]
  }
 ],
 "metadata": {
  "kernelspec": {
   "display_name": "Python 3",
   "language": "python",
   "name": "python3"
  },
  "language_info": {
   "codemirror_mode": {
    "name": "ipython",
    "version": 3
   },
   "file_extension": ".py",
   "mimetype": "text/x-python",
   "name": "python",
   "nbconvert_exporter": "python",
   "pygments_lexer": "ipython3",
   "version": "3.7.6"
  }
 },
 "nbformat": 4,
 "nbformat_minor": 2
}
